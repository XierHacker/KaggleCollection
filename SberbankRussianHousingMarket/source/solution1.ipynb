{
 "cells": [
  {
   "cell_type": "code",
   "execution_count": 1,
   "metadata": {
    "collapsed": true
   },
   "outputs": [],
   "source": [
    "import pandas as pd\n",
    "import data"
   ]
  },
  {
   "cell_type": "code",
   "execution_count": 2,
   "metadata": {
    "collapsed": true
   },
   "outputs": [],
   "source": [
    "train_frame,train_labels_frame,test_frame,macro_frame=data.loadFrame()"
   ]
  },
  {
   "cell_type": "code",
   "execution_count": 3,
   "metadata": {
    "collapsed": false
   },
   "outputs": [
    {
     "data": {
      "text/plain": [
       "(30471, 290)"
      ]
     },
     "execution_count": 3,
     "metadata": {},
     "output_type": "execute_result"
    }
   ],
   "source": [
    "train_frame.shape"
   ]
  },
  {
   "cell_type": "code",
   "execution_count": 4,
   "metadata": {
    "collapsed": false
   },
   "outputs": [
    {
     "data": {
      "text/plain": [
       "(7662, 290)"
      ]
     },
     "execution_count": 4,
     "metadata": {},
     "output_type": "execute_result"
    }
   ],
   "source": [
    "test_frame.shape"
   ]
  },
  {
   "cell_type": "code",
   "execution_count": 5,
   "metadata": {
    "collapsed": true
   },
   "outputs": [],
   "source": [
    "all_frame=pd.concat((train_frame,test_frame),axis=0)"
   ]
  },
  {
   "cell_type": "code",
   "execution_count": 6,
   "metadata": {
    "collapsed": false
   },
   "outputs": [
    {
     "data": {
      "text/plain": [
       "(38133, 290)"
      ]
     },
     "execution_count": 6,
     "metadata": {},
     "output_type": "execute_result"
    }
   ],
   "source": [
    "all_frame.shape"
   ]
  },
  {
   "cell_type": "code",
   "execution_count": 7,
   "metadata": {
    "collapsed": false
   },
   "outputs": [
    {
     "data": {
      "text/plain": [
       "id\n",
       "1        2011-08-20\n",
       "2        2011-08-23\n",
       "3        2011-08-27\n",
       "4        2011-09-01\n",
       "5        2011-09-05\n",
       "6        2011-09-06\n",
       "7        2011-09-08\n",
       "8        2011-09-09\n",
       "9        2011-09-10\n",
       "10       2011-09-13\n",
       "11       2011-09-16\n",
       "12       2011-09-16\n",
       "13       2011-09-17\n",
       "14       2011-09-19\n",
       "15       2011-09-19\n",
       "16       2011-09-20\n",
       "17       2011-09-20\n",
       "18       2011-09-20\n",
       "19       2011-09-22\n",
       "20       2011-09-22\n",
       "21       2011-09-22\n",
       "22       2011-09-22\n",
       "23       2011-09-23\n",
       "24       2011-09-23\n",
       "25       2011-09-23\n",
       "26       2011-09-24\n",
       "27       2011-09-26\n",
       "28       2011-09-26\n",
       "29       2011-09-26\n",
       "30       2011-09-27\n",
       "            ...    \n",
       "38106    2016-05-20\n",
       "38107    2016-05-20\n",
       "38108    2016-05-20\n",
       "38109    2016-05-20\n",
       "38110    2016-05-21\n",
       "38111    2016-05-21\n",
       "38112    2016-05-21\n",
       "38113    2016-05-21\n",
       "38114    2016-05-23\n",
       "38115    2016-05-23\n",
       "38116    2016-05-23\n",
       "38117    2016-05-23\n",
       "38118    2016-05-23\n",
       "38119    2016-05-23\n",
       "38120    2016-05-23\n",
       "38121    2016-05-23\n",
       "38122    2016-05-23\n",
       "38123    2016-05-24\n",
       "38124    2016-05-24\n",
       "38125    2016-05-24\n",
       "38126    2016-05-24\n",
       "38127    2016-05-25\n",
       "38128    2016-05-25\n",
       "38129    2016-05-25\n",
       "38130    2016-05-26\n",
       "38131    2016-05-26\n",
       "38132    2016-05-28\n",
       "38133    2016-05-30\n",
       "38134    2016-05-30\n",
       "38135    2016-05-30\n",
       "Name: timestamp, dtype: object"
      ]
     },
     "execution_count": 7,
     "metadata": {},
     "output_type": "execute_result"
    }
   ],
   "source": [
    "all_frame.pop(\"timestamp\")"
   ]
  },
  {
   "cell_type": "code",
   "execution_count": 8,
   "metadata": {
    "collapsed": false
   },
   "outputs": [
    {
     "data": {
      "text/plain": [
       "(38133, 289)"
      ]
     },
     "execution_count": 8,
     "metadata": {},
     "output_type": "execute_result"
    }
   ],
   "source": [
    "all_frame.shape"
   ]
  },
  {
   "cell_type": "code",
   "execution_count": 9,
   "metadata": {
    "collapsed": true
   },
   "outputs": [],
   "source": [
    "#one-hot encoding\n",
    "all_frame_dummy=pd.get_dummies(data=all_frame)"
   ]
  },
  {
   "cell_type": "code",
   "execution_count": 10,
   "metadata": {
    "collapsed": false
   },
   "outputs": [
    {
     "data": {
      "text/plain": [
       "(38133, 451)"
      ]
     },
     "execution_count": 10,
     "metadata": {},
     "output_type": "execute_result"
    }
   ],
   "source": [
    "all_frame_dummy.shape"
   ]
  },
  {
   "cell_type": "code",
   "execution_count": 11,
   "metadata": {
    "collapsed": false
   },
   "outputs": [
    {
     "data": {
      "text/html": [
       "<div>\n",
       "<table border=\"1\" class=\"dataframe\">\n",
       "  <thead>\n",
       "    <tr style=\"text-align: right;\">\n",
       "      <th></th>\n",
       "      <th>full_sq</th>\n",
       "      <th>life_sq</th>\n",
       "      <th>floor</th>\n",
       "      <th>max_floor</th>\n",
       "      <th>material</th>\n",
       "      <th>build_year</th>\n",
       "      <th>num_room</th>\n",
       "      <th>kitch_sq</th>\n",
       "      <th>state</th>\n",
       "      <th>area_m</th>\n",
       "      <th>...</th>\n",
       "      <th>water_1line_yes</th>\n",
       "      <th>big_road1_1line_no</th>\n",
       "      <th>big_road1_1line_yes</th>\n",
       "      <th>railroad_1line_no</th>\n",
       "      <th>railroad_1line_yes</th>\n",
       "      <th>ecology_excellent</th>\n",
       "      <th>ecology_good</th>\n",
       "      <th>ecology_no data</th>\n",
       "      <th>ecology_poor</th>\n",
       "      <th>ecology_satisfactory</th>\n",
       "    </tr>\n",
       "    <tr>\n",
       "      <th>id</th>\n",
       "      <th></th>\n",
       "      <th></th>\n",
       "      <th></th>\n",
       "      <th></th>\n",
       "      <th></th>\n",
       "      <th></th>\n",
       "      <th></th>\n",
       "      <th></th>\n",
       "      <th></th>\n",
       "      <th></th>\n",
       "      <th></th>\n",
       "      <th></th>\n",
       "      <th></th>\n",
       "      <th></th>\n",
       "      <th></th>\n",
       "      <th></th>\n",
       "      <th></th>\n",
       "      <th></th>\n",
       "      <th></th>\n",
       "      <th></th>\n",
       "      <th></th>\n",
       "    </tr>\n",
       "  </thead>\n",
       "  <tbody>\n",
       "    <tr>\n",
       "      <th>1</th>\n",
       "      <td>43.0</td>\n",
       "      <td>27.0</td>\n",
       "      <td>4.0</td>\n",
       "      <td>NaN</td>\n",
       "      <td>NaN</td>\n",
       "      <td>NaN</td>\n",
       "      <td>NaN</td>\n",
       "      <td>NaN</td>\n",
       "      <td>NaN</td>\n",
       "      <td>6.407578e+06</td>\n",
       "      <td>...</td>\n",
       "      <td>0</td>\n",
       "      <td>1</td>\n",
       "      <td>0</td>\n",
       "      <td>1</td>\n",
       "      <td>0</td>\n",
       "      <td>0</td>\n",
       "      <td>1</td>\n",
       "      <td>0</td>\n",
       "      <td>0</td>\n",
       "      <td>0</td>\n",
       "    </tr>\n",
       "    <tr>\n",
       "      <th>2</th>\n",
       "      <td>34.0</td>\n",
       "      <td>19.0</td>\n",
       "      <td>3.0</td>\n",
       "      <td>NaN</td>\n",
       "      <td>NaN</td>\n",
       "      <td>NaN</td>\n",
       "      <td>NaN</td>\n",
       "      <td>NaN</td>\n",
       "      <td>NaN</td>\n",
       "      <td>9.589337e+06</td>\n",
       "      <td>...</td>\n",
       "      <td>0</td>\n",
       "      <td>1</td>\n",
       "      <td>0</td>\n",
       "      <td>1</td>\n",
       "      <td>0</td>\n",
       "      <td>1</td>\n",
       "      <td>0</td>\n",
       "      <td>0</td>\n",
       "      <td>0</td>\n",
       "      <td>0</td>\n",
       "    </tr>\n",
       "    <tr>\n",
       "      <th>3</th>\n",
       "      <td>43.0</td>\n",
       "      <td>29.0</td>\n",
       "      <td>2.0</td>\n",
       "      <td>NaN</td>\n",
       "      <td>NaN</td>\n",
       "      <td>NaN</td>\n",
       "      <td>NaN</td>\n",
       "      <td>NaN</td>\n",
       "      <td>NaN</td>\n",
       "      <td>4.808270e+06</td>\n",
       "      <td>...</td>\n",
       "      <td>0</td>\n",
       "      <td>1</td>\n",
       "      <td>0</td>\n",
       "      <td>1</td>\n",
       "      <td>0</td>\n",
       "      <td>0</td>\n",
       "      <td>0</td>\n",
       "      <td>0</td>\n",
       "      <td>1</td>\n",
       "      <td>0</td>\n",
       "    </tr>\n",
       "    <tr>\n",
       "      <th>4</th>\n",
       "      <td>89.0</td>\n",
       "      <td>50.0</td>\n",
       "      <td>9.0</td>\n",
       "      <td>NaN</td>\n",
       "      <td>NaN</td>\n",
       "      <td>NaN</td>\n",
       "      <td>NaN</td>\n",
       "      <td>NaN</td>\n",
       "      <td>NaN</td>\n",
       "      <td>1.258354e+07</td>\n",
       "      <td>...</td>\n",
       "      <td>0</td>\n",
       "      <td>1</td>\n",
       "      <td>0</td>\n",
       "      <td>1</td>\n",
       "      <td>0</td>\n",
       "      <td>0</td>\n",
       "      <td>1</td>\n",
       "      <td>0</td>\n",
       "      <td>0</td>\n",
       "      <td>0</td>\n",
       "    </tr>\n",
       "    <tr>\n",
       "      <th>5</th>\n",
       "      <td>77.0</td>\n",
       "      <td>77.0</td>\n",
       "      <td>4.0</td>\n",
       "      <td>NaN</td>\n",
       "      <td>NaN</td>\n",
       "      <td>NaN</td>\n",
       "      <td>NaN</td>\n",
       "      <td>NaN</td>\n",
       "      <td>NaN</td>\n",
       "      <td>8.398461e+06</td>\n",
       "      <td>...</td>\n",
       "      <td>0</td>\n",
       "      <td>1</td>\n",
       "      <td>0</td>\n",
       "      <td>0</td>\n",
       "      <td>1</td>\n",
       "      <td>1</td>\n",
       "      <td>0</td>\n",
       "      <td>0</td>\n",
       "      <td>0</td>\n",
       "      <td>0</td>\n",
       "    </tr>\n",
       "  </tbody>\n",
       "</table>\n",
       "<p>5 rows × 451 columns</p>\n",
       "</div>"
      ],
      "text/plain": [
       "    full_sq  life_sq  floor  max_floor  material  build_year  num_room  \\\n",
       "id                                                                       \n",
       "1      43.0     27.0    4.0        NaN       NaN         NaN       NaN   \n",
       "2      34.0     19.0    3.0        NaN       NaN         NaN       NaN   \n",
       "3      43.0     29.0    2.0        NaN       NaN         NaN       NaN   \n",
       "4      89.0     50.0    9.0        NaN       NaN         NaN       NaN   \n",
       "5      77.0     77.0    4.0        NaN       NaN         NaN       NaN   \n",
       "\n",
       "    kitch_sq  state        area_m          ...           water_1line_yes  \\\n",
       "id                                         ...                             \n",
       "1        NaN    NaN  6.407578e+06          ...                         0   \n",
       "2        NaN    NaN  9.589337e+06          ...                         0   \n",
       "3        NaN    NaN  4.808270e+06          ...                         0   \n",
       "4        NaN    NaN  1.258354e+07          ...                         0   \n",
       "5        NaN    NaN  8.398461e+06          ...                         0   \n",
       "\n",
       "    big_road1_1line_no  big_road1_1line_yes  railroad_1line_no  \\\n",
       "id                                                               \n",
       "1                    1                    0                  1   \n",
       "2                    1                    0                  1   \n",
       "3                    1                    0                  1   \n",
       "4                    1                    0                  1   \n",
       "5                    1                    0                  0   \n",
       "\n",
       "    railroad_1line_yes  ecology_excellent  ecology_good  ecology_no data  \\\n",
       "id                                                                         \n",
       "1                    0                  0             1                0   \n",
       "2                    0                  1             0                0   \n",
       "3                    0                  0             0                0   \n",
       "4                    0                  0             1                0   \n",
       "5                    1                  1             0                0   \n",
       "\n",
       "    ecology_poor  ecology_satisfactory  \n",
       "id                                      \n",
       "1              0                     0  \n",
       "2              0                     0  \n",
       "3              1                     0  \n",
       "4              0                     0  \n",
       "5              0                     0  \n",
       "\n",
       "[5 rows x 451 columns]"
      ]
     },
     "execution_count": 11,
     "metadata": {},
     "output_type": "execute_result"
    }
   ],
   "source": [
    "all_frame_dummy.head()"
   ]
  },
  {
   "cell_type": "markdown",
   "metadata": {},
   "source": [
    "# Dealing with missing value"
   ]
  },
  {
   "cell_type": "code",
   "execution_count": 12,
   "metadata": {
    "collapsed": false
   },
   "outputs": [
    {
     "data": {
      "text/plain": [
       "hospital_beds_raion            17859\n",
       "cafe_sum_500_min_price_avg     16440\n",
       "cafe_avg_price_500             16440\n",
       "cafe_sum_500_max_price_avg     16440\n",
       "build_year                     14654\n",
       "state                          14253\n",
       "max_floor                       9572\n",
       "material                        9572\n",
       "num_room                        9572\n",
       "kitch_sq                        9572\n",
       "preschool_quota                 8284\n",
       "school_quota                    8280\n",
       "cafe_avg_price_1000             7746\n",
       "cafe_sum_1000_max_price_avg     7746\n",
       "cafe_sum_1000_min_price_avg     7746\n",
       "life_sq                         7559\n",
       "build_count_panel               6209\n",
       "build_count_slag                6209\n",
       "build_count_foam                6209\n",
       "build_count_mix                 6209\n",
       "dtype: int64"
      ]
     },
     "execution_count": 12,
     "metadata": {},
     "output_type": "execute_result"
    }
   ],
   "source": [
    "all_frame_dummy.isnull().sum().sort_values(ascending=False).head(20)"
   ]
  },
  {
   "cell_type": "code",
   "execution_count": 13,
   "metadata": {
    "collapsed": true
   },
   "outputs": [],
   "source": [
    "#use mean to fill the missing value\n",
    "mean_cols=all_frame_dummy.mean()"
   ]
  },
  {
   "cell_type": "code",
   "execution_count": 14,
   "metadata": {
    "collapsed": false
   },
   "outputs": [
    {
     "data": {
      "text/plain": [
       "full_sq                                  5.411117e+01\n",
       "life_sq                                  3.403346e+01\n",
       "floor                                    7.667123e+00\n",
       "max_floor                                1.256759e+01\n",
       "material                                 1.834390e+00\n",
       "build_year                               2.716785e+03\n",
       "num_room                                 1.900844e+00\n",
       "kitch_sq                                 6.543995e+00\n",
       "state                                    2.071650e+00\n",
       "area_m                                   1.766282e+07\n",
       "raion_popul                              8.475286e+04\n",
       "green_zone_part                          2.201989e-01\n",
       "indust_part                              1.195315e-01\n",
       "children_preschool                       5.183292e+03\n",
       "preschool_quota                          3.269048e+03\n",
       "preschool_education_centers_raion        4.058532e+00\n",
       "children_school                          5.397529e+03\n",
       "school_quota                             8.300673e+03\n",
       "school_education_centers_raion           4.715548e+00\n",
       "school_education_centers_top_20_raion    1.093279e-01\n",
       "hospital_beds_raion                      1.193585e+03\n",
       "healthcare_centers_raion                 1.335903e+00\n",
       "university_top_20_raion                  1.403509e-01\n",
       "sport_objects_raion                      6.719141e+00\n",
       "additional_education_raion               2.897464e+00\n",
       "culture_objects_top_25_raion             2.949414e-01\n",
       "shopping_centers_raion                   4.274985e+00\n",
       "office_raion                             8.440826e+00\n",
       "full_all                                 1.442193e+05\n",
       "male_f                                   6.627154e+04\n",
       "                                             ...     \n",
       "sub_area_Zjuzino                         8.339234e-03\n",
       "culture_objects_top_25_no                9.313193e-01\n",
       "culture_objects_top_25_yes               6.868067e-02\n",
       "thermal_power_plant_raion_no             9.457688e-01\n",
       "thermal_power_plant_raion_yes            5.423124e-02\n",
       "incineration_raion_no                    9.322896e-01\n",
       "incineration_raion_yes                   6.771038e-02\n",
       "oil_chemistry_raion_no                   9.905331e-01\n",
       "oil_chemistry_raion_yes                  9.466866e-03\n",
       "radiation_raion_no                       6.415441e-01\n",
       "radiation_raion_yes                      3.584559e-01\n",
       "railroad_terminal_raion_no               9.618703e-01\n",
       "railroad_terminal_raion_yes              3.812970e-02\n",
       "big_market_raion_no                      9.120447e-01\n",
       "big_market_raion_yes                     8.795531e-02\n",
       "nuclear_reactor_raion_no                 9.708389e-01\n",
       "nuclear_reactor_raion_yes                2.916109e-02\n",
       "detention_facility_raion_no              8.995621e-01\n",
       "detention_facility_raion_yes             1.004379e-01\n",
       "water_1line_no                           9.240815e-01\n",
       "water_1line_yes                          7.591850e-02\n",
       "big_road1_1line_no                       9.710487e-01\n",
       "big_road1_1line_yes                      2.895130e-02\n",
       "railroad_1line_no                        9.703144e-01\n",
       "railroad_1line_yes                       2.968557e-02\n",
       "ecology_excellent                        1.354208e-01\n",
       "ecology_good                             2.303779e-01\n",
       "ecology_no data                          2.470564e-01\n",
       "ecology_poor                             2.642855e-01\n",
       "ecology_satisfactory                     1.228595e-01\n",
       "dtype: float64"
      ]
     },
     "execution_count": 14,
     "metadata": {},
     "output_type": "execute_result"
    }
   ],
   "source": [
    "mean_cols"
   ]
  },
  {
   "cell_type": "code",
   "execution_count": 15,
   "metadata": {
    "collapsed": true
   },
   "outputs": [],
   "source": [
    "filled_all_frame_dummy=all_frame_dummy.fillna(value=mean_cols)"
   ]
  },
  {
   "cell_type": "code",
   "execution_count": 16,
   "metadata": {
    "collapsed": false
   },
   "outputs": [
    {
     "data": {
      "text/plain": [
       "0"
      ]
     },
     "execution_count": 16,
     "metadata": {},
     "output_type": "execute_result"
    }
   ],
   "source": [
    "filled_all_frame_dummy.isnull().sum().sum()"
   ]
  },
  {
   "cell_type": "code",
   "execution_count": null,
   "metadata": {
    "collapsed": true
   },
   "outputs": [],
   "source": []
  },
  {
   "cell_type": "code",
   "execution_count": 17,
   "metadata": {
    "collapsed": true
   },
   "outputs": [],
   "source": [
    "#recover the trainSet and testSet\n",
    "train_frame_dummy=filled_all_frame_dummy.loc[train_frame.index]\n",
    "test_frame_dummy=filled_all_frame_dummy.loc[test_frame.index]"
   ]
  },
  {
   "cell_type": "code",
   "execution_count": 18,
   "metadata": {
    "collapsed": false
   },
   "outputs": [
    {
     "data": {
      "text/plain": [
       "(30471, 451)"
      ]
     },
     "execution_count": 18,
     "metadata": {},
     "output_type": "execute_result"
    }
   ],
   "source": [
    "train_frame_dummy.shape"
   ]
  },
  {
   "cell_type": "code",
   "execution_count": 19,
   "metadata": {
    "collapsed": false
   },
   "outputs": [
    {
     "data": {
      "text/plain": [
       "(7662, 451)"
      ]
     },
     "execution_count": 19,
     "metadata": {},
     "output_type": "execute_result"
    }
   ],
   "source": [
    "test_frame_dummy.shape"
   ]
  },
  {
   "cell_type": "code",
   "execution_count": 20,
   "metadata": {
    "collapsed": true
   },
   "outputs": [],
   "source": [
    "#extract data from DataFrame\n",
    "trainData=train_frame_dummy.values\n",
    "trainLabels=train_labels_frame.values\n",
    "testData=test_frame_dummy.values"
   ]
  },
  {
   "cell_type": "code",
   "execution_count": 21,
   "metadata": {
    "collapsed": false
   },
   "outputs": [
    {
     "data": {
      "text/plain": [
       "(30471, 451)"
      ]
     },
     "execution_count": 21,
     "metadata": {},
     "output_type": "execute_result"
    }
   ],
   "source": [
    "trainData.shape"
   ]
  },
  {
   "cell_type": "code",
   "execution_count": 22,
   "metadata": {
    "collapsed": false
   },
   "outputs": [
    {
     "data": {
      "text/plain": [
       "(30471,)"
      ]
     },
     "execution_count": 22,
     "metadata": {},
     "output_type": "execute_result"
    }
   ],
   "source": [
    "trainLabels.shape"
   ]
  },
  {
   "cell_type": "code",
   "execution_count": 23,
   "metadata": {
    "collapsed": false
   },
   "outputs": [
    {
     "data": {
      "text/plain": [
       "(7662, 451)"
      ]
     },
     "execution_count": 23,
     "metadata": {},
     "output_type": "execute_result"
    }
   ],
   "source": [
    "testData.shape"
   ]
  },
  {
   "cell_type": "code",
   "execution_count": null,
   "metadata": {
    "collapsed": true
   },
   "outputs": [],
   "source": []
  }
 ],
 "metadata": {
  "anaconda-cloud": {},
  "kernelspec": {
   "display_name": "Python [default]",
   "language": "python",
   "name": "python3"
  },
  "language_info": {
   "codemirror_mode": {
    "name": "ipython",
    "version": 3
   },
   "file_extension": ".py",
   "mimetype": "text/x-python",
   "name": "python",
   "nbconvert_exporter": "python",
   "pygments_lexer": "ipython3",
   "version": "3.5.2"
  }
 },
 "nbformat": 4,
 "nbformat_minor": 1
}
